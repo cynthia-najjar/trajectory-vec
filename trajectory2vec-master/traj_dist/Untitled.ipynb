{
 "cells": [
  {
   "cell_type": "code",
   "execution_count": 2,
   "metadata": {},
   "outputs": [
    {
     "ename": "ModuleNotFoundError",
     "evalue": "No module named 'basic_euclidean'",
     "output_type": "error",
     "traceback": [
      "\u001b[1;31m---------------------------------------------------------------------------\u001b[0m",
      "\u001b[1;31mModuleNotFoundError\u001b[0m                       Traceback (most recent call last)",
      "\u001b[1;32m<ipython-input-2-352d1dd82a92>\u001b[0m in \u001b[0;36m<module>\u001b[1;34m\u001b[0m\n\u001b[0;32m     13\u001b[0m \u001b[0mtraj_list\u001b[0m \u001b[1;33m=\u001b[0m \u001b[1;33m[\u001b[0m\u001b[0mtraj_A\u001b[0m\u001b[1;33m,\u001b[0m \u001b[0mtraj_B\u001b[0m\u001b[1;33m,\u001b[0m \u001b[0mtraj_C\u001b[0m\u001b[1;33m]\u001b[0m\u001b[1;33m\u001b[0m\u001b[1;33m\u001b[0m\u001b[0m\n\u001b[0;32m     14\u001b[0m \u001b[1;33m\u001b[0m\u001b[0m\n\u001b[1;32m---> 15\u001b[1;33m \u001b[1;32mimport\u001b[0m \u001b[0mdistance\u001b[0m \u001b[1;32mas\u001b[0m \u001b[0mtdist\u001b[0m\u001b[1;33m\u001b[0m\u001b[1;33m\u001b[0m\u001b[0m\n\u001b[0m\u001b[0;32m     16\u001b[0m \u001b[1;33m\u001b[0m\u001b[0m\n\u001b[0;32m     17\u001b[0m \u001b[1;31m# Simple distance\u001b[0m\u001b[1;33m\u001b[0m\u001b[1;33m\u001b[0m\u001b[1;33m\u001b[0m\u001b[0m\n",
      "\u001b[1;32m~\\trajectory2vec-master\\traj_dist\\distance.py\u001b[0m in \u001b[0;36m<module>\u001b[1;34m\u001b[0m\n\u001b[0;32m      1\u001b[0m \u001b[1;32mfrom\u001b[0m \u001b[0mpydist\u001b[0m\u001b[1;33m.\u001b[0m\u001b[0mlinecell\u001b[0m \u001b[1;32mimport\u001b[0m \u001b[0mtrajectory_set_grid\u001b[0m\u001b[1;33m\u001b[0m\u001b[1;33m\u001b[0m\u001b[0m\n\u001b[0;32m      2\u001b[0m \u001b[1;33m\u001b[0m\u001b[0m\n\u001b[1;32m----> 3\u001b[1;33m \u001b[1;32mfrom\u001b[0m \u001b[0mpydist\u001b[0m\u001b[1;33m.\u001b[0m\u001b[0msspd\u001b[0m \u001b[1;32mimport\u001b[0m \u001b[0me_sspd\u001b[0m\u001b[1;33m,\u001b[0m \u001b[0mg_sspd\u001b[0m\u001b[1;33m\u001b[0m\u001b[1;33m\u001b[0m\u001b[0m\n\u001b[0m\u001b[0;32m      4\u001b[0m \u001b[1;32mfrom\u001b[0m \u001b[0mpydist\u001b[0m\u001b[1;33m.\u001b[0m\u001b[0mdtw\u001b[0m \u001b[1;32mimport\u001b[0m \u001b[0me_dtw\u001b[0m\u001b[1;33m,\u001b[0m \u001b[0mg_dtw\u001b[0m\u001b[1;33m\u001b[0m\u001b[1;33m\u001b[0m\u001b[0m\n\u001b[0;32m      5\u001b[0m \u001b[1;32mfrom\u001b[0m \u001b[0mpydist\u001b[0m\u001b[1;33m.\u001b[0m\u001b[0merp\u001b[0m \u001b[1;32mimport\u001b[0m \u001b[0me_erp\u001b[0m\u001b[1;33m,\u001b[0m \u001b[0mg_erp\u001b[0m\u001b[1;33m\u001b[0m\u001b[1;33m\u001b[0m\u001b[0m\n",
      "\u001b[1;32m~\\trajectory2vec-master\\traj_dist\\pydist\\sspd.py\u001b[0m in \u001b[0;36m<module>\u001b[1;34m\u001b[0m\n\u001b[0;32m      1\u001b[0m \u001b[1;32mimport\u001b[0m \u001b[0mnumpy\u001b[0m \u001b[1;32mas\u001b[0m \u001b[0mnp\u001b[0m\u001b[1;33m\u001b[0m\u001b[1;33m\u001b[0m\u001b[0m\n\u001b[1;32m----> 2\u001b[1;33m \u001b[1;32mfrom\u001b[0m \u001b[0mbasic_euclidean\u001b[0m \u001b[1;32mimport\u001b[0m \u001b[0mpoint_to_trajectory\u001b[0m\u001b[1;33m\u001b[0m\u001b[1;33m\u001b[0m\u001b[0m\n\u001b[0m\u001b[0;32m      3\u001b[0m \u001b[1;32mfrom\u001b[0m \u001b[0mbasic_geographical\u001b[0m \u001b[1;32mimport\u001b[0m \u001b[0mpoint_to_path\u001b[0m\u001b[1;33m\u001b[0m\u001b[1;33m\u001b[0m\u001b[0m\n\u001b[0;32m      4\u001b[0m \u001b[1;31m###############\u001b[0m\u001b[1;33m\u001b[0m\u001b[1;33m\u001b[0m\u001b[1;33m\u001b[0m\u001b[0m\n\u001b[0;32m      5\u001b[0m \u001b[1;31m## euclidean ##\u001b[0m\u001b[1;33m\u001b[0m\u001b[1;33m\u001b[0m\u001b[1;33m\u001b[0m\u001b[0m\n",
      "\u001b[1;31mModuleNotFoundError\u001b[0m: No module named 'basic_euclidean'"
     ]
    }
   ],
   "source": [
    "import numpy as np\n",
    "\n",
    "# Three 2-D Trajectory\n",
    "traj_A = np.array([[-122.39534, 37.77678],[-122.3992 , 37.77631],[-122.40235, 37.77594],[-122.40553, 37.77848],\n",
    "                   [-122.40801, 37.78043],[-122.40837, 37.78066],[-122.41103, 37.78463],[-122.41207, 37.78954],\n",
    "                   [-122.41252, 37.79232],[-122.41316, 37.7951 ],[-122.41392, 37.7989 ],[-122.41435, 37.80129],\n",
    "                   [-122.41434, 37.80129]])\n",
    "traj_B = np.array([[-122.39472, 37.77672],[-122.3946 , 37.77679],[-122.39314, 37.77846],[-122.39566, 37.78113],\n",
    "                   [-122.39978, 37.78438],[-122.40301, 37.78708],[-122.4048 , 37.78666],[-122.40584, 37.78564],\n",
    "                   [-122.40826, 37.78385],[-122.41061, 37.78321],[-122.41252, 37.78299]])\n",
    "traj_C = np.array([[-122.39542, 37.77665],[-122.3988 , 37.77417],[-122.41042, 37.76944],[-122.41459, 37.77016],\n",
    "                   [-122.41462, 37.77013]])\n",
    "traj_list = [traj_A, traj_B, traj_C]\n",
    "\n",
    "import distance as tdist\n",
    "\n",
    "# Simple distance\n",
    "\n",
    "dist = tdist.sspd(traj_A,traj_B)\n",
    "print(dist)\n",
    "\n",
    "# Pairwise distance\n",
    "\n",
    "pdist = tdist.pdist(traj_list,metric=\"sspd\")\n",
    "print(pdist)\n",
    "\n",
    "# Distance between two list of trajectories\n",
    "\n",
    "cdist = tdist.cdist(traj_list, traj_list,metric=\"sspd\")\n",
    "print(cdist)\n"
   ]
  },
  {
   "cell_type": "code",
   "execution_count": null,
   "metadata": {},
   "outputs": [],
   "source": []
  }
 ],
 "metadata": {
  "kernelspec": {
   "display_name": "TensorFlow-GPU-1.13",
   "language": "python",
   "name": "tf-gpu"
  },
  "language_info": {
   "codemirror_mode": {
    "name": "ipython",
    "version": 3
   },
   "file_extension": ".py",
   "mimetype": "text/x-python",
   "name": "python",
   "nbconvert_exporter": "python",
   "pygments_lexer": "ipython3",
   "version": "3.7.4"
  }
 },
 "nbformat": 4,
 "nbformat_minor": 2
}
